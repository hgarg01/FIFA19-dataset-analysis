{
 "cells": [
  {
   "cell_type": "code",
   "execution_count": 13,
   "id": "reflected-yesterday",
   "metadata": {},
   "outputs": [
    {
     "name": "stdout",
     "output_type": "stream",
     "text": [
      "   Unnamed: 0      ID               Name  Age  \\\n",
      "0           0  158023           L. Messi   31   \n",
      "1           1   20801  Cristiano Ronaldo   33   \n",
      "2           2  190871          Neymar Jr   26   \n",
      "3           3  193080             De Gea   27   \n",
      "4           4  192985       K. De Bruyne   27   \n",
      "\n",
      "                                            Photo Nationality  \\\n",
      "0  https://cdn.sofifa.org/players/4/19/158023.png   Argentina   \n",
      "1   https://cdn.sofifa.org/players/4/19/20801.png    Portugal   \n",
      "2  https://cdn.sofifa.org/players/4/19/190871.png      Brazil   \n",
      "3  https://cdn.sofifa.org/players/4/19/193080.png       Spain   \n",
      "4  https://cdn.sofifa.org/players/4/19/192985.png     Belgium   \n",
      "\n",
      "                                  Flag  Overall  Potential  \\\n",
      "0  https://cdn.sofifa.org/flags/52.png       94         94   \n",
      "1  https://cdn.sofifa.org/flags/38.png       94         94   \n",
      "2  https://cdn.sofifa.org/flags/54.png       92         93   \n",
      "3  https://cdn.sofifa.org/flags/45.png       91         93   \n",
      "4   https://cdn.sofifa.org/flags/7.png       91         92   \n",
      "\n",
      "                  Club  ... Composure Marking StandingTackle  SlidingTackle  \\\n",
      "0         FC Barcelona  ...      96.0    33.0           28.0           26.0   \n",
      "1             Juventus  ...      95.0    28.0           31.0           23.0   \n",
      "2  Paris Saint-Germain  ...      94.0    27.0           24.0           33.0   \n",
      "3    Manchester United  ...      68.0    15.0           21.0           13.0   \n",
      "4      Manchester City  ...      88.0    68.0           58.0           51.0   \n",
      "\n",
      "  GKDiving  GKHandling  GKKicking  GKPositioning GKReflexes Release Clause  \n",
      "0      6.0        11.0       15.0           14.0        8.0        €226.5M  \n",
      "1      7.0        11.0       15.0           14.0       11.0        €127.1M  \n",
      "2      9.0         9.0       15.0           15.0       11.0        €228.1M  \n",
      "3     90.0        85.0       87.0           88.0       94.0        €138.6M  \n",
      "4     15.0        13.0        5.0           10.0       13.0        €196.4M  \n",
      "\n",
      "[5 rows x 89 columns]\n",
      "(18207, 89)\n"
     ]
    }
   ],
   "source": [
    "#Read data into a frame\n",
    "import pandas as pd\n",
    "import numpy as np\n",
    "data = pd.read_csv(\"C:/Users/harsh/Documents/Upwork/Zoe/data.csv\")\n",
    "print(data.head())\n",
    "print(data.shape)"
   ]
  },
  {
   "cell_type": "code",
   "execution_count": 14,
   "id": "musical-polymer",
   "metadata": {},
   "outputs": [
    {
     "data": {
      "text/plain": [
       "48"
      ]
     },
     "execution_count": 14,
     "metadata": {},
     "output_type": "execute_result"
    }
   ],
   "source": [
    "sum(data.apply(lambda x: sum(x.isnull().values), axis = 1) > 40)"
   ]
  },
  {
   "cell_type": "code",
   "execution_count": 15,
   "id": "ordinary-cemetery",
   "metadata": {},
   "outputs": [
    {
     "data": {
      "text/plain": [
       "(18159, 89)"
      ]
     },
     "execution_count": 15,
     "metadata": {},
     "output_type": "execute_result"
    }
   ],
   "source": [
    "#remove rows with many null values. 48 such rows are deleted\n",
    "clean_data = data.dropna(how='all', subset=['Positioning', 'Vision', 'Marking', 'StandingTackle'])\n",
    "clean_data.shape"
   ]
  },
  {
   "cell_type": "code",
   "execution_count": 16,
   "id": "rural-peeing",
   "metadata": {},
   "outputs": [
    {
     "name": "stdout",
     "output_type": "stream",
     "text": [
      "<class 'pandas.core.frame.DataFrame'>\n",
      "Int64Index: 18159 entries, 0 to 18206\n",
      "Data columns (total 89 columns):\n",
      " #   Column                    Non-Null Count  Dtype  \n",
      "---  ------                    --------------  -----  \n",
      " 0   Unnamed: 0                18159 non-null  int64  \n",
      " 1   ID                        18159 non-null  int64  \n",
      " 2   Name                      18159 non-null  object \n",
      " 3   Age                       18159 non-null  int64  \n",
      " 4   Photo                     18159 non-null  object \n",
      " 5   Nationality               18159 non-null  object \n",
      " 6   Flag                      18159 non-null  object \n",
      " 7   Overall                   18159 non-null  int64  \n",
      " 8   Potential                 18159 non-null  int64  \n",
      " 9   Club                      17918 non-null  object \n",
      " 10  Club Logo                 18159 non-null  object \n",
      " 11  Value                     18159 non-null  object \n",
      " 12  Wage                      18159 non-null  object \n",
      " 13  Special                   18159 non-null  int64  \n",
      " 14  Preferred Foot            18159 non-null  object \n",
      " 15  International Reputation  18159 non-null  float64\n",
      " 16  Weak Foot                 18159 non-null  float64\n",
      " 17  Skill Moves               18159 non-null  float64\n",
      " 18  Work Rate                 18159 non-null  object \n",
      " 19  Body Type                 18159 non-null  object \n",
      " 20  Real Face                 18159 non-null  object \n",
      " 21  Position                  18147 non-null  object \n",
      " 22  Jersey Number             18147 non-null  float64\n",
      " 23  Joined                    16654 non-null  object \n",
      " 24  Loaned From               1264 non-null   object \n",
      " 25  Contract Valid Until      17918 non-null  object \n",
      " 26  Height                    18159 non-null  object \n",
      " 27  Weight                    18159 non-null  object \n",
      " 28  LS                        16122 non-null  object \n",
      " 29  ST                        16122 non-null  object \n",
      " 30  RS                        16122 non-null  object \n",
      " 31  LW                        16122 non-null  object \n",
      " 32  LF                        16122 non-null  object \n",
      " 33  CF                        16122 non-null  object \n",
      " 34  RF                        16122 non-null  object \n",
      " 35  RW                        16122 non-null  object \n",
      " 36  LAM                       16122 non-null  object \n",
      " 37  CAM                       16122 non-null  object \n",
      " 38  RAM                       16122 non-null  object \n",
      " 39  LM                        16122 non-null  object \n",
      " 40  LCM                       16122 non-null  object \n",
      " 41  CM                        16122 non-null  object \n",
      " 42  RCM                       16122 non-null  object \n",
      " 43  RM                        16122 non-null  object \n",
      " 44  LWB                       16122 non-null  object \n",
      " 45  LDM                       16122 non-null  object \n",
      " 46  CDM                       16122 non-null  object \n",
      " 47  RDM                       16122 non-null  object \n",
      " 48  RWB                       16122 non-null  object \n",
      " 49  LB                        16122 non-null  object \n",
      " 50  LCB                       16122 non-null  object \n",
      " 51  CB                        16122 non-null  object \n",
      " 52  RCB                       16122 non-null  object \n",
      " 53  RB                        16122 non-null  object \n",
      " 54  Crossing                  18159 non-null  float64\n",
      " 55  Finishing                 18159 non-null  float64\n",
      " 56  HeadingAccuracy           18159 non-null  float64\n",
      " 57  ShortPassing              18159 non-null  float64\n",
      " 58  Volleys                   18159 non-null  float64\n",
      " 59  Dribbling                 18159 non-null  float64\n",
      " 60  Curve                     18159 non-null  float64\n",
      " 61  FKAccuracy                18159 non-null  float64\n",
      " 62  LongPassing               18159 non-null  float64\n",
      " 63  BallControl               18159 non-null  float64\n",
      " 64  Acceleration              18159 non-null  float64\n",
      " 65  SprintSpeed               18159 non-null  float64\n",
      " 66  Agility                   18159 non-null  float64\n",
      " 67  Reactions                 18159 non-null  float64\n",
      " 68  Balance                   18159 non-null  float64\n",
      " 69  ShotPower                 18159 non-null  float64\n",
      " 70  Jumping                   18159 non-null  float64\n",
      " 71  Stamina                   18159 non-null  float64\n",
      " 72  Strength                  18159 non-null  float64\n",
      " 73  LongShots                 18159 non-null  float64\n",
      " 74  Aggression                18159 non-null  float64\n",
      " 75  Interceptions             18159 non-null  float64\n",
      " 76  Positioning               18159 non-null  float64\n",
      " 77  Vision                    18159 non-null  float64\n",
      " 78  Penalties                 18159 non-null  float64\n",
      " 79  Composure                 18159 non-null  float64\n",
      " 80  Marking                   18159 non-null  float64\n",
      " 81  StandingTackle            18159 non-null  float64\n",
      " 82  SlidingTackle             18159 non-null  float64\n",
      " 83  GKDiving                  18159 non-null  float64\n",
      " 84  GKHandling                18159 non-null  float64\n",
      " 85  GKKicking                 18159 non-null  float64\n",
      " 86  GKPositioning             18159 non-null  float64\n",
      " 87  GKReflexes                18159 non-null  float64\n",
      " 88  Release Clause            16643 non-null  object \n",
      "dtypes: float64(38), int64(6), object(45)\n",
      "memory usage: 12.5+ MB\n"
     ]
    }
   ],
   "source": [
    "clean_data.info()"
   ]
  },
  {
   "cell_type": "code",
   "execution_count": 17,
   "id": "understood-flash",
   "metadata": {},
   "outputs": [
    {
     "name": "stderr",
     "output_type": "stream",
     "text": [
      "C:\\Users\\harsh\\AppData\\Local\\R-MINI~1\\lib\\site-packages\\ipykernel_launcher.py:4: SettingWithCopyWarning: \n",
      "A value is trying to be set on a copy of a slice from a DataFrame.\n",
      "Try using .loc[row_indexer,col_indexer] = value instead\n",
      "\n",
      "See the caveats in the documentation: https://pandas.pydata.org/pandas-docs/stable/user_guide/indexing.html#returning-a-view-versus-a-copy\n",
      "  after removing the cwd from sys.path.\n",
      "C:\\Users\\harsh\\AppData\\Local\\R-MINI~1\\lib\\site-packages\\ipykernel_launcher.py:8: SettingWithCopyWarning: \n",
      "A value is trying to be set on a copy of a slice from a DataFrame.\n",
      "Try using .loc[row_indexer,col_indexer] = value instead\n",
      "\n",
      "See the caveats in the documentation: https://pandas.pydata.org/pandas-docs/stable/user_guide/indexing.html#returning-a-view-versus-a-copy\n",
      "  \n",
      "C:\\Users\\harsh\\AppData\\Local\\R-MINI~1\\lib\\site-packages\\ipykernel_launcher.py:12: SettingWithCopyWarning: \n",
      "A value is trying to be set on a copy of a slice from a DataFrame.\n",
      "Try using .loc[row_indexer,col_indexer] = value instead\n",
      "\n",
      "See the caveats in the documentation: https://pandas.pydata.org/pandas-docs/stable/user_guide/indexing.html#returning-a-view-versus-a-copy\n",
      "  if sys.path[0] == '':\n"
     ]
    }
   ],
   "source": [
    "#convert height into cms\n",
    "Height = ['0\\'0' if isinstance(val, float) else val for val in clean_data['Height']]\n",
    "Height = [(float(val[0])*12 + float(val[2:]))*2.5 if len(val) > 2 else 0 for val in Height]\n",
    "clean_data['Height'] = Height\n",
    "\n",
    "#convert wages to number\n",
    "wg = clean_data['Wage'].str.replace(r'\\D+', '')\n",
    "clean_data['Wage'] = wg.astype(int) * 1000\n",
    "\n",
    "#convert Weight to number\n",
    "wt = clean_data['Weight'].str.replace(r'\\D+', '')\n",
    "clean_data['Weight'] = wt.astype(int) \n"
   ]
  },
  {
   "cell_type": "code",
   "execution_count": 18,
   "id": "allied-advocacy",
   "metadata": {},
   "outputs": [
    {
     "name": "stdout",
     "output_type": "stream",
     "text": [
      "0        110500000.0\n",
      "1         77000000.0\n",
      "2        118500000.0\n",
      "3         72000000.0\n",
      "4        102000000.0\n",
      "            ...     \n",
      "18202        60000.0\n",
      "18203        60000.0\n",
      "18204        60000.0\n",
      "18205        60000.0\n",
      "18206        60000.0\n",
      "Name: Value, Length: 18159, dtype: float64\n"
     ]
    },
    {
     "name": "stderr",
     "output_type": "stream",
     "text": [
      "C:\\Users\\harsh\\AppData\\Local\\R-MINI~1\\lib\\site-packages\\ipykernel_launcher.py:10: SettingWithCopyWarning: \n",
      "A value is trying to be set on a copy of a slice from a DataFrame.\n",
      "Try using .loc[row_indexer,col_indexer] = value instead\n",
      "\n",
      "See the caveats in the documentation: https://pandas.pydata.org/pandas-docs/stable/user_guide/indexing.html#returning-a-view-versus-a-copy\n",
      "  # Remove the CWD from sys.path while we load stuff.\n"
     ]
    }
   ],
   "source": [
    "#convert the value column to number\n",
    "def convert_scale(value):\n",
    "    if value.endswith(\"M\"):\n",
    "        return float(value[:-1]) * 10**6\n",
    "    elif value.endswith(\"K\"):\n",
    "        return float(value[:-1]) * 10**3\n",
    "    else:\n",
    "        return float(value)\n",
    "\n",
    "clean_data[\"Value\"] = clean_data[\"Value\"].str.replace('€', '').apply(convert_scale)\n",
    "print(clean_data[\"Value\"])"
   ]
  },
  {
   "cell_type": "code",
   "execution_count": 19,
   "id": "julian-travel",
   "metadata": {},
   "outputs": [
    {
     "data": {
      "text/html": [
       "<div>\n",
       "<style scoped>\n",
       "    .dataframe tbody tr th:only-of-type {\n",
       "        vertical-align: middle;\n",
       "    }\n",
       "\n",
       "    .dataframe tbody tr th {\n",
       "        vertical-align: top;\n",
       "    }\n",
       "\n",
       "    .dataframe thead th {\n",
       "        text-align: right;\n",
       "    }\n",
       "</style>\n",
       "<table border=\"1\" class=\"dataframe\">\n",
       "  <thead>\n",
       "    <tr style=\"text-align: right;\">\n",
       "      <th></th>\n",
       "      <th>Name</th>\n",
       "      <th>Club</th>\n",
       "      <th>Wage</th>\n",
       "      <th>Overall</th>\n",
       "      <th>Potential</th>\n",
       "      <th>Nationality</th>\n",
       "    </tr>\n",
       "  </thead>\n",
       "  <tbody>\n",
       "    <tr>\n",
       "      <th>0</th>\n",
       "      <td>L. Messi</td>\n",
       "      <td>FC Barcelona</td>\n",
       "      <td>565000</td>\n",
       "      <td>94</td>\n",
       "      <td>94</td>\n",
       "      <td>Argentina</td>\n",
       "    </tr>\n",
       "    <tr>\n",
       "      <th>7</th>\n",
       "      <td>L. Suárez</td>\n",
       "      <td>FC Barcelona</td>\n",
       "      <td>455000</td>\n",
       "      <td>91</td>\n",
       "      <td>91</td>\n",
       "      <td>Uruguay</td>\n",
       "    </tr>\n",
       "    <tr>\n",
       "      <th>6</th>\n",
       "      <td>L. Modrić</td>\n",
       "      <td>Real Madrid</td>\n",
       "      <td>420000</td>\n",
       "      <td>91</td>\n",
       "      <td>91</td>\n",
       "      <td>Croatia</td>\n",
       "    </tr>\n",
       "    <tr>\n",
       "      <th>1</th>\n",
       "      <td>Cristiano Ronaldo</td>\n",
       "      <td>Juventus</td>\n",
       "      <td>405000</td>\n",
       "      <td>94</td>\n",
       "      <td>94</td>\n",
       "      <td>Portugal</td>\n",
       "    </tr>\n",
       "    <tr>\n",
       "      <th>8</th>\n",
       "      <td>Sergio Ramos</td>\n",
       "      <td>Real Madrid</td>\n",
       "      <td>380000</td>\n",
       "      <td>91</td>\n",
       "      <td>91</td>\n",
       "      <td>Spain</td>\n",
       "    </tr>\n",
       "    <tr>\n",
       "      <th>4</th>\n",
       "      <td>K. De Bruyne</td>\n",
       "      <td>Manchester City</td>\n",
       "      <td>355000</td>\n",
       "      <td>91</td>\n",
       "      <td>92</td>\n",
       "      <td>Belgium</td>\n",
       "    </tr>\n",
       "    <tr>\n",
       "      <th>11</th>\n",
       "      <td>T. Kroos</td>\n",
       "      <td>Real Madrid</td>\n",
       "      <td>355000</td>\n",
       "      <td>90</td>\n",
       "      <td>90</td>\n",
       "      <td>Germany</td>\n",
       "    </tr>\n",
       "    <tr>\n",
       "      <th>36</th>\n",
       "      <td>G. Bale</td>\n",
       "      <td>Real Madrid</td>\n",
       "      <td>355000</td>\n",
       "      <td>88</td>\n",
       "      <td>88</td>\n",
       "      <td>Wales</td>\n",
       "    </tr>\n",
       "    <tr>\n",
       "      <th>5</th>\n",
       "      <td>E. Hazard</td>\n",
       "      <td>Chelsea</td>\n",
       "      <td>340000</td>\n",
       "      <td>91</td>\n",
       "      <td>91</td>\n",
       "      <td>Belgium</td>\n",
       "    </tr>\n",
       "    <tr>\n",
       "      <th>32</th>\n",
       "      <td>Coutinho</td>\n",
       "      <td>FC Barcelona</td>\n",
       "      <td>340000</td>\n",
       "      <td>88</td>\n",
       "      <td>89</td>\n",
       "      <td>Brazil</td>\n",
       "    </tr>\n",
       "  </tbody>\n",
       "</table>\n",
       "</div>"
      ],
      "text/plain": [
       "                 Name             Club    Wage  Overall  Potential Nationality\n",
       "0            L. Messi     FC Barcelona  565000       94         94   Argentina\n",
       "7           L. Suárez     FC Barcelona  455000       91         91     Uruguay\n",
       "6           L. Modrić      Real Madrid  420000       91         91     Croatia\n",
       "1   Cristiano Ronaldo         Juventus  405000       94         94    Portugal\n",
       "8        Sergio Ramos      Real Madrid  380000       91         91       Spain\n",
       "4        K. De Bruyne  Manchester City  355000       91         92     Belgium\n",
       "11           T. Kroos      Real Madrid  355000       90         90     Germany\n",
       "36            G. Bale      Real Madrid  355000       88         88       Wales\n",
       "5           E. Hazard          Chelsea  340000       91         91     Belgium\n",
       "32           Coutinho     FC Barcelona  340000       88         89      Brazil"
      ]
     },
     "execution_count": 19,
     "metadata": {},
     "output_type": "execute_result"
    }
   ],
   "source": [
    "#Details of the Heighest paid players\n",
    "clean_data.nlargest(10, 'Wage')[['Name','Club', 'Wage', 'Overall', 'Potential', 'Nationality']]"
   ]
  },
  {
   "cell_type": "code",
   "execution_count": 22,
   "id": "fuzzy-trial",
   "metadata": {},
   "outputs": [
    {
     "data": {
      "text/html": [
       "<div>\n",
       "<style scoped>\n",
       "    .dataframe tbody tr th:only-of-type {\n",
       "        vertical-align: middle;\n",
       "    }\n",
       "\n",
       "    .dataframe tbody tr th {\n",
       "        vertical-align: top;\n",
       "    }\n",
       "\n",
       "    .dataframe thead th {\n",
       "        text-align: right;\n",
       "    }\n",
       "</style>\n",
       "<table border=\"1\" class=\"dataframe\">\n",
       "  <thead>\n",
       "    <tr style=\"text-align: right;\">\n",
       "      <th></th>\n",
       "      <th>Name</th>\n",
       "      <th>Club</th>\n",
       "      <th>Wage</th>\n",
       "      <th>Overall</th>\n",
       "      <th>Potential</th>\n",
       "      <th>Nationality</th>\n",
       "    </tr>\n",
       "  </thead>\n",
       "  <tbody>\n",
       "    <tr>\n",
       "      <th>0</th>\n",
       "      <td>L. Messi</td>\n",
       "      <td>FC Barcelona</td>\n",
       "      <td>565000</td>\n",
       "      <td>94</td>\n",
       "      <td>94</td>\n",
       "      <td>Argentina</td>\n",
       "    </tr>\n",
       "    <tr>\n",
       "      <th>1</th>\n",
       "      <td>Cristiano Ronaldo</td>\n",
       "      <td>Juventus</td>\n",
       "      <td>405000</td>\n",
       "      <td>94</td>\n",
       "      <td>94</td>\n",
       "      <td>Portugal</td>\n",
       "    </tr>\n",
       "    <tr>\n",
       "      <th>2</th>\n",
       "      <td>Neymar Jr</td>\n",
       "      <td>Paris Saint-Germain</td>\n",
       "      <td>290000</td>\n",
       "      <td>92</td>\n",
       "      <td>93</td>\n",
       "      <td>Brazil</td>\n",
       "    </tr>\n",
       "    <tr>\n",
       "      <th>3</th>\n",
       "      <td>De Gea</td>\n",
       "      <td>Manchester United</td>\n",
       "      <td>260000</td>\n",
       "      <td>91</td>\n",
       "      <td>93</td>\n",
       "      <td>Spain</td>\n",
       "    </tr>\n",
       "    <tr>\n",
       "      <th>4</th>\n",
       "      <td>K. De Bruyne</td>\n",
       "      <td>Manchester City</td>\n",
       "      <td>355000</td>\n",
       "      <td>91</td>\n",
       "      <td>92</td>\n",
       "      <td>Belgium</td>\n",
       "    </tr>\n",
       "    <tr>\n",
       "      <th>5</th>\n",
       "      <td>E. Hazard</td>\n",
       "      <td>Chelsea</td>\n",
       "      <td>340000</td>\n",
       "      <td>91</td>\n",
       "      <td>91</td>\n",
       "      <td>Belgium</td>\n",
       "    </tr>\n",
       "    <tr>\n",
       "      <th>6</th>\n",
       "      <td>L. Modrić</td>\n",
       "      <td>Real Madrid</td>\n",
       "      <td>420000</td>\n",
       "      <td>91</td>\n",
       "      <td>91</td>\n",
       "      <td>Croatia</td>\n",
       "    </tr>\n",
       "    <tr>\n",
       "      <th>7</th>\n",
       "      <td>L. Suárez</td>\n",
       "      <td>FC Barcelona</td>\n",
       "      <td>455000</td>\n",
       "      <td>91</td>\n",
       "      <td>91</td>\n",
       "      <td>Uruguay</td>\n",
       "    </tr>\n",
       "    <tr>\n",
       "      <th>8</th>\n",
       "      <td>Sergio Ramos</td>\n",
       "      <td>Real Madrid</td>\n",
       "      <td>380000</td>\n",
       "      <td>91</td>\n",
       "      <td>91</td>\n",
       "      <td>Spain</td>\n",
       "    </tr>\n",
       "    <tr>\n",
       "      <th>9</th>\n",
       "      <td>J. Oblak</td>\n",
       "      <td>Atlético Madrid</td>\n",
       "      <td>94000</td>\n",
       "      <td>90</td>\n",
       "      <td>93</td>\n",
       "      <td>Slovenia</td>\n",
       "    </tr>\n",
       "  </tbody>\n",
       "</table>\n",
       "</div>"
      ],
      "text/plain": [
       "                Name                 Club    Wage  Overall  Potential  \\\n",
       "0           L. Messi         FC Barcelona  565000       94         94   \n",
       "1  Cristiano Ronaldo             Juventus  405000       94         94   \n",
       "2          Neymar Jr  Paris Saint-Germain  290000       92         93   \n",
       "3             De Gea    Manchester United  260000       91         93   \n",
       "4       K. De Bruyne      Manchester City  355000       91         92   \n",
       "5          E. Hazard              Chelsea  340000       91         91   \n",
       "6          L. Modrić          Real Madrid  420000       91         91   \n",
       "7          L. Suárez         FC Barcelona  455000       91         91   \n",
       "8       Sergio Ramos          Real Madrid  380000       91         91   \n",
       "9           J. Oblak      Atlético Madrid   94000       90         93   \n",
       "\n",
       "  Nationality  \n",
       "0   Argentina  \n",
       "1    Portugal  \n",
       "2      Brazil  \n",
       "3       Spain  \n",
       "4     Belgium  \n",
       "5     Belgium  \n",
       "6     Croatia  \n",
       "7     Uruguay  \n",
       "8       Spain  \n",
       "9    Slovenia  "
      ]
     },
     "execution_count": 22,
     "metadata": {},
     "output_type": "execute_result"
    }
   ],
   "source": [
    "clean_data.nlargest(10, 'Overall')[['Name','Club', 'Wage', 'Overall', 'Potential', 'Nationality']]"
   ]
  },
  {
   "cell_type": "code",
   "execution_count": 68,
   "id": "charged-syndicate",
   "metadata": {},
   "outputs": [
    {
     "name": "stdout",
     "output_type": "stream",
     "text": [
      "                      Club  maximum       average  minimum\n",
      "0      SSV Jahn Regensburg     9000   4241.379310     1000\n",
      "1    1. FC Heidenheim 1846    14000   4464.285714     1000\n",
      "2     1. FC Kaiserslautern     4000   1692.307692     1000\n",
      "3               1. FC Köln    26000  13285.714286     1000\n",
      "4          1. FC Magdeburg    15000   4884.615385     1000\n",
      "..                     ...      ...           ...      ...\n",
      "646     Zagłębie Sosnowiec     2000   1080.000000     1000\n",
      "647        Çaykur Rizespor    15000   6433.333333     1000\n",
      "648              Örebro SK     4000   1481.481481     1000\n",
      "649          Östersunds FK     8000   2045.454545     1000\n",
      "650          Śląsk Wrocław     4000   2083.333333     1000\n",
      "\n",
      "[651 rows x 4 columns]\n",
      "<class 'pandas.core.frame.DataFrame'>\n",
      "RangeIndex: 651 entries, 0 to 650\n",
      "Data columns (total 4 columns):\n",
      " #   Column   Non-Null Count  Dtype  \n",
      "---  ------   --------------  -----  \n",
      " 0   Club     651 non-null    object \n",
      " 1   maximum  651 non-null    int32  \n",
      " 2   average  651 non-null    float64\n",
      " 3   minimum  651 non-null    int32  \n",
      "dtypes: float64(1), int32(2), object(1)\n",
      "memory usage: 15.4+ KB\n"
     ]
    }
   ],
   "source": [
    "clubs = clean_data.groupby([\"Club\"], as_index= False)['Wage'].agg(['max','mean','min'])\n",
    "clubs.columns = (clubs.columns.str.replace('max','maximum').str.replace('min','minimum')\n",
    "                  .str.replace('mean','average'))\n",
    "clubs = clubs.reset_index()\n",
    "\n",
    "#.reset_index()\n",
    "#.agg(total=(\"Wage\", \"sum\"), mean=(\"Wage\", \"mean\"))\n",
    "#clubs.columns = clubs.columns.get_level_values(0)\n",
    "print(clubs)\n",
    "clubs.info()"
   ]
  },
  {
   "cell_type": "code",
   "execution_count": 69,
   "id": "suffering-manchester",
   "metadata": {},
   "outputs": [
    {
     "name": "stdout",
     "output_type": "stream",
     "text": [
      "                  Club  maximum        average  minimum\n",
      "470        Real Madrid   420000  152030.303030     9000\n",
      "212       FC Barcelona   565000  146575.757576     4000\n",
      "326           Juventus   405000  131680.000000     5000\n",
      "374    Manchester City   355000  113363.636364     3000\n",
      "375  Manchester United   260000  102757.575758     8000\n",
      "134            Chelsea   340000   98454.545455     2000\n",
      "363          Liverpool   255000   87939.393939     3000\n",
      "583  Tottenham Hotspur   205000   79484.848485     3000\n",
      "214  FC Bayern München   315000   78827.586207     2000\n",
      "52             Arsenal   265000   78424.242424     4000\n"
     ]
    }
   ],
   "source": [
    "clubs_top10 = clubs.nlargest(10, 'average')\n",
    "print(clubs_top10)"
   ]
  },
  {
   "cell_type": "code",
   "execution_count": 70,
   "id": "female-algebra",
   "metadata": {},
   "outputs": [
    {
     "name": "stdout",
     "output_type": "stream",
     "text": [
      "                 Club Variable          Value\n",
      "0         Real Madrid  maximum  420000.000000\n",
      "1        FC Barcelona  maximum  565000.000000\n",
      "2            Juventus  maximum  405000.000000\n",
      "3     Manchester City  maximum  355000.000000\n",
      "4   Manchester United  maximum  260000.000000\n",
      "5             Chelsea  maximum  340000.000000\n",
      "6           Liverpool  maximum  255000.000000\n",
      "7   Tottenham Hotspur  maximum  205000.000000\n",
      "8   FC Bayern München  maximum  315000.000000\n",
      "9             Arsenal  maximum  265000.000000\n",
      "10        Real Madrid  average  152030.303030\n",
      "11       FC Barcelona  average  146575.757576\n",
      "12           Juventus  average  131680.000000\n",
      "13    Manchester City  average  113363.636364\n",
      "14  Manchester United  average  102757.575758\n",
      "15            Chelsea  average   98454.545455\n",
      "16          Liverpool  average   87939.393939\n",
      "17  Tottenham Hotspur  average   79484.848485\n",
      "18  FC Bayern München  average   78827.586207\n",
      "19            Arsenal  average   78424.242424\n",
      "20        Real Madrid  minimum    9000.000000\n",
      "21       FC Barcelona  minimum    4000.000000\n",
      "22           Juventus  minimum    5000.000000\n",
      "23    Manchester City  minimum    3000.000000\n",
      "24  Manchester United  minimum    8000.000000\n",
      "25            Chelsea  minimum    2000.000000\n",
      "26          Liverpool  minimum    3000.000000\n",
      "27  Tottenham Hotspur  minimum    3000.000000\n",
      "28  FC Bayern München  minimum    2000.000000\n",
      "29            Arsenal  minimum    4000.000000\n"
     ]
    },
    {
     "data": {
      "text/plain": [
       "<matplotlib.axes._subplots.AxesSubplot at 0x200acb47108>"
      ]
     },
     "execution_count": 70,
     "metadata": {},
     "output_type": "execute_result"
    },
    {
     "data": {
      "image/png": "[encoded data removed]",
      "text/plain": [
       "<Figure size 720x720 with 1 Axes>"
      ]
     },
     "metadata": {
      "needs_background": "light"
     },
     "output_type": "display_data"
    }
   ],
   "source": [
    "import seaborn as sns\n",
    "import matplotlib.pyplot as plt\n",
    "\n",
    "fig, ax1 = plt.subplots(figsize=(10, 10))\n",
    "plt.xticks(rotation = 90)\n",
    "tidy = clubs_top10.melt(id_vars='Club').rename(columns=str.title)\n",
    "print(tidy)\n",
    "sns.barplot(x='Club', y='Value', hue='Variable', data=tidy, ax=ax1)\n",
    "#sns.despine(fig)"
   ]
  },
  {
   "cell_type": "code",
   "execution_count": 86,
   "id": "aerial-campbell",
   "metadata": {},
   "outputs": [
    {
     "data": {
      "text/plain": [
       "(array([ 0,  1,  2,  3,  4,  5,  6,  7,  8,  9, 10, 11, 12, 13, 14, 15, 16,\n",
       "        17, 18, 19]),\n",
       " <a list of 20 Text major ticklabel objects>)"
      ]
     },
     "execution_count": 86,
     "metadata": {},
     "output_type": "execute_result"
    },
    {
     "data": {
      "image/png": "[encoded data removed]",
      "text/plain": [
       "<Figure size 432x288 with 1 Axes>"
      ]
     },
     "metadata": {
      "needs_background": "light"
     },
     "output_type": "display_data"
    }
   ],
   "source": [
    "sns.countplot(x = 'Nationality', data=clean_data, order=clean_data['Nationality'].value_counts().iloc[:20].index)\n",
    "plt.xticks(rotation = 90)"
   ]
  },
  {
   "cell_type": "code",
   "execution_count": null,
   "id": "exempt-ambassador",
   "metadata": {},
   "outputs": [],
   "source": []
  },
  {
   "cell_type": "code",
   "execution_count": 85,
   "id": "accepted-uruguay",
   "metadata": {},
   "outputs": [
    {
     "name": "stdout",
     "output_type": "stream",
     "text": [
      "              Nationality  maximum       average\n",
      "42     Dominican Republic   140000  71000.000000\n",
      "156  United Arab Emirates    39000  39000.000000\n",
      "56                  Gabon   265000  26933.333333\n",
      "7                 Armenia   145000  22000.000000\n",
      "35                Croatia   420000  21682.539683\n",
      "27   Central African Rep.    46000  19000.000000\n",
      "13                Belgium   355000  18544.401544\n",
      "2                 Algeria   205000  18083.333333\n",
      "20                 Brazil   340000  17819.393939\n",
      "47      Equatorial Guinea    65000  17200.000000\n",
      "158               Uruguay   455000  17006.711409\n",
      "44                  Egypt   255000  16870.967742\n",
      "16                Bermuda    30000  16500.000000\n",
      "139                 Spain   380000  16337.068161\n",
      "150                  Togo    34000  16000.000000\n",
      "77                 Israel    40000  15857.142857\n",
      "147   São Tomé & Príncipe    15000  15000.000000\n",
      "18     Bosnia Herzegovina   180000  14868.852459\n",
      "105               Morocco   160000  14847.058824\n",
      "121           Philippines    28000  14500.000000\n",
      "             Nationality Variable          Value\n",
      "0     Dominican Republic  maximum  140000.000000\n",
      "1   United Arab Emirates  maximum   39000.000000\n",
      "2                  Gabon  maximum  265000.000000\n",
      "3                Armenia  maximum  145000.000000\n",
      "4                Croatia  maximum  420000.000000\n",
      "5   Central African Rep.  maximum   46000.000000\n",
      "6                Belgium  maximum  355000.000000\n",
      "7                Algeria  maximum  205000.000000\n",
      "8                 Brazil  maximum  340000.000000\n",
      "9      Equatorial Guinea  maximum   65000.000000\n",
      "10               Uruguay  maximum  455000.000000\n",
      "11                 Egypt  maximum  255000.000000\n",
      "12               Bermuda  maximum   30000.000000\n",
      "13                 Spain  maximum  380000.000000\n",
      "14                  Togo  maximum   34000.000000\n",
      "15                Israel  maximum   40000.000000\n",
      "16   São Tomé & Príncipe  maximum   15000.000000\n",
      "17    Bosnia Herzegovina  maximum  180000.000000\n",
      "18               Morocco  maximum  160000.000000\n",
      "19           Philippines  maximum   28000.000000\n",
      "20    Dominican Republic  average   71000.000000\n",
      "21  United Arab Emirates  average   39000.000000\n",
      "22                 Gabon  average   26933.333333\n",
      "23               Armenia  average   22000.000000\n",
      "24               Croatia  average   21682.539683\n",
      "25  Central African Rep.  average   19000.000000\n",
      "26               Belgium  average   18544.401544\n",
      "27               Algeria  average   18083.333333\n",
      "28                Brazil  average   17819.393939\n",
      "29     Equatorial Guinea  average   17200.000000\n",
      "30               Uruguay  average   17006.711409\n",
      "31                 Egypt  average   16870.967742\n",
      "32               Bermuda  average   16500.000000\n",
      "33                 Spain  average   16337.068161\n",
      "34                  Togo  average   16000.000000\n",
      "35                Israel  average   15857.142857\n",
      "36   São Tomé & Príncipe  average   15000.000000\n",
      "37    Bosnia Herzegovina  average   14868.852459\n",
      "38               Morocco  average   14847.058824\n",
      "39           Philippines  average   14500.000000\n"
     ]
    },
    {
     "data": {
      "text/plain": [
       "<matplotlib.axes._subplots.AxesSubplot at 0x200b234a208>"
      ]
     },
     "execution_count": 85,
     "metadata": {},
     "output_type": "execute_result"
    },
    {
     "data": {
      "image/png": "[encoded data removed]",
      "text/plain": [
       "<Figure size 720x720 with 1 Axes>"
      ]
     },
     "metadata": {
      "needs_background": "light"
     },
     "output_type": "display_data"
    }
   ],
   "source": [
    "countries = clean_data.groupby([\"Nationality\"], as_index= False)['Wage'].agg(['max','mean'])\n",
    "countries.columns = (countries.columns.str.replace('max','maximum')\n",
    "                  .str.replace('mean','average'))\n",
    "countries = countries.reset_index()\n",
    "countries_top20 = countries.nlargest(20, 'average')\n",
    "print(countries_top20)\n",
    "fig, ax1 = plt.subplots(figsize=(10, 10))\n",
    "plt.xticks(rotation = 90)\n",
    "tidy = countries_top20.melt(id_vars='Nationality').rename(columns=str.title)\n",
    "print(tidy)\n",
    "sns.barplot(x='Nationality', y='Value', hue='Variable', data=tidy, ax=ax1)"
   ]
  },
  {
   "cell_type": "code",
   "execution_count": 87,
   "id": "blond-search",
   "metadata": {},
   "outputs": [
    {
     "data": {
      "text/plain": [
       "<matplotlib.axes._subplots.AxesSubplot at 0x200b2798c48>"
      ]
     },
     "execution_count": 87,
     "metadata": {},
     "output_type": "execute_result"
    },
    {
     "data": {
      "image/png": "[encoded data removed]",
      "text/plain": [
       "<Figure size 432x288 with 2 Axes>"
      ]
     },
     "metadata": {
      "needs_background": "light"
     },
     "output_type": "display_data"
    }
   ],
   "source": [
    "import seaborn as sns\n",
    "#draw correlation plot between different factors\n",
    "selected_attr = ['Height', 'Weight', 'Wage', 'Overall', 'Potential', 'Age']\n",
    "corr = clean_data[selected_attr].corr()\n",
    "sns.heatmap(corr,  center=0, annot=True,square=True, linewidths=.05, cbar_kws={\"shrink\": .6})"
   ]
  },
  {
   "cell_type": "code",
   "execution_count": 101,
   "id": "peaceful-diameter",
   "metadata": {},
   "outputs": [
    {
     "name": "stderr",
     "output_type": "stream",
     "text": [
      "C:\\Users\\harsh\\AppData\\Local\\R-MINI~1\\lib\\site-packages\\seaborn\\_decorators.py:43: FutureWarning: Pass the following variable as a keyword arg: x. From version 0.12, the only valid positional argument will be `data`, and passing other arguments without an explicit keyword will result in an error or misinterpretation.\n",
      "  FutureWarning\n"
     ]
    },
    {
     "data": {
      "text/plain": [
       "(array([ 0,  1,  2,  3,  4,  5,  6,  7,  8,  9, 10, 11, 12, 13, 14, 15, 16,\n",
       "        17, 18, 19, 20, 21, 22, 23, 24, 25, 26]),\n",
       " <a list of 27 Text major ticklabel objects>)"
      ]
     },
     "execution_count": 101,
     "metadata": {},
     "output_type": "execute_result"
    },
    {
     "data": {
      "image/png": "[encoded data removed]",
      "text/plain": [
       "<Figure size 432x288 with 1 Axes>"
      ]
     },
     "metadata": {
      "needs_background": "light"
     },
     "output_type": "display_data"
    },
    {
     "data": {
      "image/png": "[encoded data removed]",
      "text/plain": [
       "<Figure size 360x360 with 1 Axes>"
      ]
     },
     "metadata": {
      "needs_background": "light"
     },
     "output_type": "display_data"
    }
   ],
   "source": [
    "#does position affect overall rating and Wage\n",
    "import matplotlib.pylab as plt\n",
    "sns.countplot(clean_data['Position'], order = clean_data['Position'].value_counts().index)\n",
    "plt.xticks(rotation=90)\n",
    "\n",
    "sns.catplot(x = 'Position', y = 'Wage', data = clean_data, kind = 'box', order = clean_data['Position'].value_counts().index )\n",
    "plt.xticks(rotation=90)"
   ]
  },
  {
   "cell_type": "code",
   "execution_count": 103,
   "id": "modified-indianapolis",
   "metadata": {},
   "outputs": [
    {
     "data": {
      "text/plain": [
       "<matplotlib.legend.Legend at 0x200b4cafa48>"
      ]
     },
     "execution_count": 103,
     "metadata": {},
     "output_type": "execute_result"
    },
    {
     "data": {
      "image/png": "[encoded data removed]",
      "text/plain": [
       "<Figure size 432x288 with 1 Axes>"
      ]
     },
     "metadata": {
      "needs_background": "light"
     },
     "output_type": "display_data"
    }
   ],
   "source": [
    "sns.lineplot(x= \"Penalties\", y = \"Wage\", data = clean_data)\n",
    "sns.lineplot(x= \"Aggression\", y = \"Wage\", data = clean_data)\n",
    "plt.legend(labels = ['Penalties', 'Aggression'])"
   ]
  },
  {
   "cell_type": "code",
   "execution_count": 107,
   "id": "chinese-night",
   "metadata": {},
   "outputs": [
    {
     "data": {
      "text/html": [
       "<div>\n",
       "<style scoped>\n",
       "    .dataframe tbody tr th:only-of-type {\n",
       "        vertical-align: middle;\n",
       "    }\n",
       "\n",
       "    .dataframe tbody tr th {\n",
       "        vertical-align: top;\n",
       "    }\n",
       "\n",
       "    .dataframe thead th {\n",
       "        text-align: right;\n",
       "    }\n",
       "</style>\n",
       "<table border=\"1\" class=\"dataframe\">\n",
       "  <thead>\n",
       "    <tr style=\"text-align: right;\">\n",
       "      <th></th>\n",
       "      <th>Aggression</th>\n",
       "      <th>Wage</th>\n",
       "    </tr>\n",
       "  </thead>\n",
       "  <tbody>\n",
       "    <tr>\n",
       "      <th>Aggression</th>\n",
       "      <td>1.000000</td>\n",
       "      <td>0.194581</td>\n",
       "    </tr>\n",
       "    <tr>\n",
       "      <th>Wage</th>\n",
       "      <td>0.194581</td>\n",
       "      <td>1.000000</td>\n",
       "    </tr>\n",
       "  </tbody>\n",
       "</table>\n",
       "</div>"
      ],
      "text/plain": [
       "            Aggression      Wage\n",
       "Aggression    1.000000  0.194581\n",
       "Wage          0.194581  1.000000"
      ]
     },
     "execution_count": 107,
     "metadata": {},
     "output_type": "execute_result"
    }
   ],
   "source": [
    "clean_data[['Aggression','Wage']].corr()"
   ]
  },
  {
   "cell_type": "code",
   "execution_count": 109,
   "id": "hawaiian-template",
   "metadata": {},
   "outputs": [
    {
     "data": {
      "text/plain": [
       "<seaborn.axisgrid.FacetGrid at 0x200b4d5ac88>"
      ]
     },
     "execution_count": 109,
     "metadata": {},
     "output_type": "execute_result"
    },
    {
     "data": {
      "image/png": "[encoded data removed]",
      "text/plain": [
       "<Figure size 360x360 with 1 Axes>"
      ]
     },
     "metadata": {
      "needs_background": "light"
     },
     "output_type": "display_data"
    }
   ],
   "source": [
    "sns.catplot(x = \"Preferred Foot\", y = \"Wage\", kind = \"box\", data = clean_data)"
   ]
  }
 ],
 "metadata": {
  "kernelspec": {
   "display_name": "Python 3",
   "language": "python",
   "name": "python3"
  },
  "language_info": {
   "codemirror_mode": {
    "name": "ipython",
    "version": 3
   },
   "file_extension": ".py",
   "mimetype": "text/x-python",
   "name": "python",
   "nbconvert_exporter": "python",
   "pygments_lexer": "ipython3",
   "version": "3.7.9"
  }
 },
 "nbformat": 4,
 "nbformat_minor": 5
}
